{
  "nbformat": 4,
  "nbformat_minor": 0,
  "metadata": {
    "colab": {
      "provenance": [],
      "gpuType": "T4",
      "authorship_tag": "ABX9TyNN5dFkdGm0H9Qpl2ZGA9jv"
    },
    "kernelspec": {
      "name": "python3",
      "display_name": "Python 3"
    },
    "language_info": {
      "name": "python"
    },
    "accelerator": "GPU"
  },
  "cells": [
    {
      "cell_type": "code",
      "source": [
        "from google.colab import drive\n",
        "drive.mount('/content/drive')"
      ],
      "metadata": {
        "id": "mqc7Yj-yBOXO"
      },
      "execution_count": null,
      "outputs": []
    },
    {
      "cell_type": "code",
      "source": [
        "!pip install transformers\n",
        "!pip install torch\n",
        "!pip install datasets\n",
        "!pip uninstall -y transformers accelerate\n",
        "!pip install transformers accelerate"
      ],
      "metadata": {
        "id": "-J4sNUsxkCyI"
      },
      "execution_count": null,
      "outputs": []
    },
    {
      "cell_type": "code",
      "execution_count": null,
      "metadata": {
        "id": "nDOXfVQzj5Xe"
      },
      "outputs": [],
      "source": [
        "from transformers import EncoderDecoderModel\n",
        "from transformers import AutoTokenizer\n",
        "import csv\n",
        "import torch\n",
        "from datasets import Dataset\n",
        "\n",
        "device = torch.device(\"cuda\" if torch.cuda.is_available() else \"cpu\")\n",
        "\n",
        "encoder_tokenizer = AutoTokenizer.from_pretrained(\"SIKU-BERT/sikuroberta\")\n",
        "decoder_tokenizer = AutoTokenizer.from_pretrained('hfl/chinese-roberta-wwm-ext')\n",
        "\n",
        "test = EncoderDecoderModel.from_pretrained('model').to(device)\n",
        "\n",
        "def generate_summary(data):\n",
        "    inputs = encoder_tokenizer(data[\"data\"], padding=\"max_length\", truncation=True, max_length=192, return_tensors=\"pt\")\n",
        "\n",
        "    input_ids=inputs.input_ids.to(device)\n",
        "\n",
        "    attention_mask = inputs.attention_mask.to(device)\n",
        "\n",
        "    outputs = test.generate(input_ids,attention_mask=attention_mask,max_length=192)\n",
        "\n",
        "    data[\"output\"] = decoder_tokenizer.batch_decode(outputs, skip_special_tokens=True)\n",
        "\n",
        "    return data\n",
        "\n",
        "\n",
        "headers = ['id', 'source', 'translation']\n",
        "\n",
        "output_data=[]\n",
        "tmp=[]\n",
        "with open(\"/content/drive/MyDrive/Colab Notebooks/test_utf8.tsv\",\"r\",encoding='utf-8') as tsv:\n",
        "    reader = csv.reader(tsv, delimiter='\\t')\n",
        "    for row in reader:\n",
        "        if row[0]==\"id\":\n",
        "            continue\n",
        "        tmp.append(row[1])\n",
        "\n",
        "data=Dataset.from_dict({\"data\": tmp})\n",
        "\n",
        "data = data.map(\n",
        "    generate_summary,\n",
        "    batched=True,\n",
        "    batch_size=20,\n",
        "    remove_columns=[\"data\"]\n",
        ")\n",
        "\n",
        "temp=[]\n",
        "count=1\n",
        "for x,y in zip(data[\"output\"],tmp):\n",
        "  temp.append([count,y,x])\n",
        "  count+=1\n",
        "\n",
        "with open(\"validate.tsv\",\"w\",encoding='utf-8') as f:\n",
        "    writer = csv.writer(f, delimiter='\\t', lineterminator='\\n')\n",
        "    writer.writerow(headers)\n",
        "    writer.writerows(temp)"
      ]
    }
  ]
}